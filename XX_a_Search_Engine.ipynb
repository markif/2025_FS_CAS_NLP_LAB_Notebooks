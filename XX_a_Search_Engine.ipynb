{
 "cells": [
  {
   "cell_type": "markdown",
   "metadata": {},
   "source": [
    "<img align=\"right\" width=\"400\" src=\"https://drive.google.com/thumbnail?id=1rPeHEqFWHJcauZlU82a4hXM10TUjmHxM&sz=s4000\" alt=\"FHNW Logo\">\n",
    "\n",
    "\n",
    "# Search Engine\n",
    "\n",
    "by Fabian Märki\n",
    "\n",
    "## Summary\n",
    "The aim of this notebook is to build a Search Engine based on TF-IDF.\n",
    "\n",
    "## Links\n",
    "- [Build your semantic document search engine with TF-IDF and Google-USE](https://medium.com/analytics-vidhya/build-your-semantic-document-search-engine-with-tf-idf-and-google-use-c836bf5f27fb)\n",
    "- [Passende Antwort: Neuronale Suche und Question Answering](https://www.heise.de/hintergrund/Passende-Antwort-Neuronale-Suche-und-Question-Answering-7127798.html)\n",
    "\n",
    "This notebook contains assigments: <font color='red'>Questions are written in red.</font>\n",
    "\n",
    "<a href=\"https://colab.research.google.com/github/markif/2024_FS_CAS_NLP_LAB_Notebooks/blob/master/XX_a_Search_Engine.ipynb\">\n",
    "  <img align=\"left\" src=\"https://colab.research.google.com/assets/colab-badge.svg\" alt=\"Open In Colab\"/>\n",
    "</a>"
   ]
  },
  {
   "cell_type": "code",
   "execution_count": 1,
   "metadata": {},
   "outputs": [],
   "source": [
    "%%capture\n",
    "\n",
    "!pip install 'fhnw-nlp-utils>=0.8.0,<0.9.0'\n",
    "\n",
    "from fhnw.nlp.utils.processing import parallelize_dataframe\n",
    "from fhnw.nlp.utils.storage import download\n",
    "from fhnw.nlp.utils.storage import load_dataframe\n",
    "\n",
    "\n",
    "import pandas as pd\n",
    "import numpy as np"
   ]
  },
  {
   "cell_type": "code",
   "execution_count": 2,
   "metadata": {},
   "outputs": [
    {
     "name": "stdout",
     "output_type": "stream",
     "text": [
      "OS name: posix\n",
      "Platform name: Linux\n",
      "Platform release: 6.5.0-35-generic\n",
      "Python version: 3.11.0rc1\n",
      "CPU cores: 6\n",
      "RAM: 31.1GB total and 21.77GB available\n",
      "Tensorflow version: 2.16.1\n",
      "GPU is available\n",
      "GPU is a NVIDIA GeForce RTX 2070 with Max-Q Design with 8192MiB\n"
     ]
    }
   ],
   "source": [
    "from fhnw.nlp.utils.system import set_log_level\n",
    "from fhnw.nlp.utils.system import system_info\n",
    "\n",
    "set_log_level()\n",
    "print(system_info())"
   ]
  },
  {
   "cell_type": "markdown",
   "metadata": {},
   "source": [
    "Download data and load it into a pandas dataframe."
   ]
  },
  {
   "cell_type": "code",
   "execution_count": 3,
   "metadata": {},
   "outputs": [
    {
     "name": "stdout",
     "output_type": "stream",
     "text": [
      "CPU times: user 612 ms, sys: 238 ms, total: 850 ms\n",
      "Wall time: 873 ms\n"
     ]
    },
    {
     "data": {
      "text/plain": [
       "(357899, 2)"
      ]
     },
     "execution_count": 3,
     "metadata": {},
     "output_type": "execute_result"
    }
   ],
   "source": [
    "%%time\n",
    "download(\"https://drive.switch.ch/index.php/s/PrVg8Ugfc2jDwT3/download\", \"data/german_doctor_reviews_original.parq\")\n",
    "data = load_dataframe(\"data/german_doctor_reviews_original.parq\")\n",
    "data.shape"
   ]
  },
  {
   "cell_type": "code",
   "execution_count": 4,
   "metadata": {},
   "outputs": [
    {
     "data": {
      "text/html": [
       "<div>\n",
       "<style scoped>\n",
       "    .dataframe tbody tr th:only-of-type {\n",
       "        vertical-align: middle;\n",
       "    }\n",
       "\n",
       "    .dataframe tbody tr th {\n",
       "        vertical-align: top;\n",
       "    }\n",
       "\n",
       "    .dataframe thead th {\n",
       "        text-align: right;\n",
       "    }\n",
       "</style>\n",
       "<table border=\"1\" class=\"dataframe\">\n",
       "  <thead>\n",
       "    <tr style=\"text-align: right;\">\n",
       "      <th></th>\n",
       "      <th>text_original</th>\n",
       "      <th>rating</th>\n",
       "    </tr>\n",
       "  </thead>\n",
       "  <tbody>\n",
       "    <tr>\n",
       "      <th>0</th>\n",
       "      <td>Ich bin franzose und bin seit ein paar Wochen ...</td>\n",
       "      <td>2.0</td>\n",
       "    </tr>\n",
       "    <tr>\n",
       "      <th>1</th>\n",
       "      <td>Dieser Arzt ist das unmöglichste was mir in me...</td>\n",
       "      <td>6.0</td>\n",
       "    </tr>\n",
       "    <tr>\n",
       "      <th>2</th>\n",
       "      <td>Hatte akute Beschwerden am Rücken. Herr Magura...</td>\n",
       "      <td>1.0</td>\n",
       "    </tr>\n",
       "  </tbody>\n",
       "</table>\n",
       "</div>"
      ],
      "text/plain": [
       "                                       text_original  rating\n",
       "0  Ich bin franzose und bin seit ein paar Wochen ...     2.0\n",
       "1  Dieser Arzt ist das unmöglichste was mir in me...     6.0\n",
       "2  Hatte akute Beschwerden am Rücken. Herr Magura...     1.0"
      ]
     },
     "execution_count": 4,
     "metadata": {},
     "output_type": "execute_result"
    }
   ],
   "source": [
    "data.head(3)"
   ]
  },
  {
   "cell_type": "markdown",
   "metadata": {},
   "source": [
    "Check if notebook runs on colab and reduce model size (RAM is the limiting factor on Colab)"
   ]
  },
  {
   "cell_type": "code",
   "execution_count": 5,
   "metadata": {},
   "outputs": [],
   "source": [
    "from fhnw.nlp.utils.colab import runs_on_colab\n",
    "\n",
    "if runs_on_colab():\n",
    "    data = data.head(100000)"
   ]
  },
  {
   "cell_type": "code",
   "execution_count": null,
   "metadata": {},
   "outputs": [],
   "source": []
  },
  {
   "cell_type": "markdown",
   "metadata": {},
   "source": [
    "  \n",
    "We can use [scikit-learn's](https://scikit-learn.org/stable) [TfidfVectorizer](https://scikit-learn.org/stable/modules/generated/sklearn.feature_extraction.text.TfidfVectorizer.html#sklearn.feature_extraction.text.TfidfVectorizer) to create a vocabulary from the text and compute the Term Frequency - Inverse Document Frequency (TF-IDF). \n",
    "The result is a sparse matrix representation of the TF-IDF, meaning each column represents a word in the vocabulary and each row represents the document in the dataset where the values are the TF-IDFs. Note that with this representation, TF-IDFs of some words can be 0 (therefore a sprase matrix) if the word did not appear in the corresponding document.\n",
    "\n",
    "It is important to note that the TF-IDF should be based on a large corpora and should be representative for the texts you want to extract keywords."
   ]
  },
  {
   "cell_type": "code",
   "execution_count": 6,
   "metadata": {},
   "outputs": [],
   "source": [
    "from sklearn.feature_extraction.text import TfidfVectorizer "
   ]
  },
  {
   "cell_type": "code",
   "execution_count": 7,
   "metadata": {},
   "outputs": [
    {
     "name": "stdout",
     "output_type": "stream",
     "text": [
      "CPU times: user 11.1 s, sys: 236 ms, total: 11.4 s\n",
      "Wall time: 11.3 s\n"
     ]
    }
   ],
   "source": [
    "%%time\n",
    "\n",
    "tfidf = TfidfVectorizer (max_df=0.85, min_df=3)\n",
    "word_count_vector = tfidf.fit_transform(data[\"text_original\"])"
   ]
  },
  {
   "cell_type": "markdown",
   "metadata": {},
   "source": [
    "Let's look at some words from our vocabulary..."
   ]
  },
  {
   "cell_type": "code",
   "execution_count": 8,
   "metadata": {},
   "outputs": [
    {
     "data": {
      "text/plain": [
       "8348      behandlungsschritt\n",
       "8349     behandlungsschritte\n",
       "8350    behandlungsschritten\n",
       "8351    behandlungsschrittes\n",
       "dtype: object"
      ]
     },
     "execution_count": 8,
     "metadata": {},
     "output_type": "execute_result"
    }
   ],
   "source": [
    "mask = pd.Series(tfidf.get_feature_names_out()).str.startswith(\"behandlungsschritt\")\n",
    "pd.Series(tfidf.get_feature_names_out())[mask]"
   ]
  },
  {
   "cell_type": "code",
   "execution_count": null,
   "metadata": {},
   "outputs": [],
   "source": []
  },
  {
   "cell_type": "markdown",
   "metadata": {},
   "source": [
    "<font color='blue'>**But wait, does it make sense to have individual words like 'behandlungsschritt', 'behandlungsschritte' 'behandlungsschritten', 'behandlungsschrittes' etc. in a TF-IDF (in a bag-of-words) model?**</font>\n",
    "\n",
    "<font color='red'>**TASK: Implement the function `preprocess` below in such a way that words with the \"same meaning\" colaps into one token.**</font>"
   ]
  },
  {
   "cell_type": "code",
   "execution_count": 9,
   "metadata": {},
   "outputs": [
    {
     "name": "stderr",
     "output_type": "stream",
     "text": [
      "[nltk_data] Downloading package punkt to /root/nltk_data...\n",
      "[nltk_data]   Package punkt is already up-to-date!\n",
      "[nltk_data] Downloading package punkt to /root/nltk_data...\n",
      "[nltk_data]   Package punkt is already up-to-date!\n",
      "[nltk_data] Downloading package stopwords to /root/nltk_data...\n",
      "[nltk_data]   Package stopwords is already up-to-date!\n"
     ]
    }
   ],
   "source": [
    "from bs4 import BeautifulSoup\n",
    "from compound_split import doc_split\n",
    "import nltk\n",
    "from nltk.stem.snowball import SnowballStemmer\n",
    "from nltk.tokenize import wordpunct_tokenize\n",
    "\n",
    "nltk.download('punkt')\n",
    "nltk.download('punkt_tab')\n",
    "\n",
    "stemmer = SnowballStemmer(\"german\")\n",
    "\n",
    "def preprocess(text):\n",
    "    \"\"\"Preprocesses the text (text cleaning, tokenization, compound word splitting, stemming, stop word removal)\n",
    "\n",
    "    Parameters\n",
    "    ----------\n",
    "    text : str\n",
    "        The text to preprocess\n",
    "        \n",
    "    Returns\n",
    "    -------\n",
    "    list\n",
    "        The preprocessed and tokenized text\n",
    "    \"\"\"\n",
    "    # TODO: !!! add your code !!!\n",
    "    #############################\n",
    "    # !!! this needs rework !!!\n",
    "    # this code just tokenized the text (see below for steps you could implement)\n",
    "    #from nltk.tokenize import word_tokenize\n",
    "    #word_tokens = word_tokenize(text)\n",
    "    \n",
    "    # remove html tags\n",
    "    text = BeautifulSoup(text).get_text()\n",
    "    \n",
    "    # tokenize words\n",
    "    word_tokens = wordpunct_tokenize(text)\n",
    "    \n",
    "    # split compound words\n",
    "    word_tokens = [split for word in word_tokens if word.lower() not in stopwords for split in doc_split.maximal_split(word) if split.lower() not in stopwords]\n",
    "    \n",
    "    # apply stemming\n",
    "    word_tokens = [stemmer.stem(word) for word in word_tokens]\n",
    "    \n",
    "    # lowercase words\n",
    "    word_tokens = [word.lower() for word in word_tokens]\n",
    "\n",
    "    return word_tokens\n",
    "\n",
    "\n",
    "\n",
    "# TODO: !!! add your code !!!\n",
    "#############################\n",
    "#\n",
    "# Prepare stopwords here\n",
    "\n",
    "from nltk.corpus import stopwords\n",
    "\n",
    "import nltk\n",
    "nltk.download('punkt')\n",
    "nltk.download('stopwords')\n",
    "\n",
    "stopwords = set(stopwords.words(\"german\"))\n",
    "\n",
    "# analyze and revise stopwords\n",
    "# add semantically empty words (in the given context)\n",
    "stopwords.add(\"frau\")\n",
    "stopwords.add(\"dr\")\n",
    "stopwords.add(\"herr\")\n",
    "stopwords.add(\"herrn\")\n",
    "stopwords.add(\"fr\")\n",
    "stopwords.add(\"werden\")\n",
    "\n",
    "# remove semantically meaningful words (like e.g. nicht)\n",
    "stopwords.remove(\"nicht\")\n",
    "stopwords.remove(\"kein\")\n",
    "\n",
    "###################\n",
    "# TODO: !!! end !!!"
   ]
  },
  {
   "cell_type": "code",
   "execution_count": 10,
   "metadata": {},
   "outputs": [
    {
     "name": "stdout",
     "output_type": "stream",
     "text": [
      "['best', 'arzt', '!']\n",
      "['schlecht', 'arzt', '!']\n",
      "['schlecht', 'arzt', '!']\n",
      "['arzt', 'gut', '!']\n",
      "['arzt', 'nicht', 'gut', '!']\n",
      "['behandl', 'ablauf', 'behandl', 'ablauf', 'behandl', 'ablauf', 'behandl', 'ablauf', 'behandl', 'ablauf']\n",
      "['best', 'behandl', 'ablauf', '.', 'grossart', '.']\n"
     ]
    }
   ],
   "source": [
    "# test if preprocess works\n",
    "\n",
    "# test html tag removal and stemming of beste\n",
    "print(preprocess(\"<br> Dies ist der beste Arzt!\"))\n",
    "# test stemming of schlechteste\n",
    "print(preprocess(\"Dies ist der schlechteste Arzt!\"))\n",
    "print(preprocess(\"Ein schlechter Arzt!\"))\n",
    "# ensure \"nicht\" is not removed (in case stopwords are used) - otherwise both sentences have the same representation (despite oposite meaning)\n",
    "print(preprocess(\"Dieser Arzt ist gut!\"))\n",
    "print(preprocess(\"Dieser Arzt ist nicht gut!\"))\n",
    "# test if compound words are split (optional)\n",
    "print(preprocess(\"Behandlungsablauf Behandlungsablaufes Behandlungsablaufs Behandlungsabläufe Behandlungsabläufen\"))\n",
    "# test is sentences (without whitespace) are split\n",
    "print(preprocess(\"Der beste Behandlungsablauf.Es war grossartig.\"))"
   ]
  },
  {
   "cell_type": "code",
   "execution_count": 11,
   "metadata": {},
   "outputs": [],
   "source": [
    "from fhnw.nlp.utils.preprocess import preprocess"
   ]
  },
  {
   "cell_type": "code",
   "execution_count": 12,
   "metadata": {},
   "outputs": [
    {
     "name": "stdout",
     "output_type": "stream",
     "text": [
      "['best', 'arzt']\n",
      "['schlecht', 'arzt']\n",
      "['schlecht', 'arzt']\n",
      "['arzt', 'gut']\n",
      "['arzt', 'nicht', 'gut']\n",
      "['behandl', 'ablauf', 'behandl', 'ablauf', 'behandl', 'ablauf', 'behandl', 'ablauf', 'behandl', 'ablauf']\n",
      "['best', 'behandl', 'ablauf', 'grossart']\n"
     ]
    }
   ],
   "source": [
    "# test html tag removal and stemming of beste\n",
    "print(preprocess(\"<br> Dies ist der beste Arzt!\", stopwords=stopwords, do_compound_word_split=True))\n",
    "# test stemming of schlechteste\n",
    "print(preprocess(\"Dies ist der schlechteste Arzt!\", stopwords=stopwords, do_compound_word_split=True))\n",
    "print(preprocess(\"Ein schlechter Arzt!\", stopwords=stopwords, do_compound_word_split=True))\n",
    "# ensure \"nicht\" is not removed (in case stopwords are used) - otherwise both sentences have the same representation (despite oposite meaning)\n",
    "print(preprocess(\"Dieser Arzt ist gut!\", stopwords=stopwords, do_compound_word_split=True))\n",
    "print(preprocess(\"Dieser Arzt ist nicht gut!\", stopwords=stopwords, do_compound_word_split=True))\n",
    "# test if compound words are split (optional)\n",
    "print(preprocess(\"Behandlungsablauf Behandlungsablaufes Behandlungsablaufs Behandlungsabläufe Behandlungsabläufen\", stopwords=stopwords, do_compound_word_split=True))\n",
    "# test is sentences (without whitespace) are split\n",
    "print(preprocess(\"Der beste Behandlungsablauf.Es war grossartig.\", stopwords=stopwords, do_compound_word_split=True))"
   ]
  },
  {
   "cell_type": "code",
   "execution_count": null,
   "metadata": {},
   "outputs": [],
   "source": []
  },
  {
   "cell_type": "code",
   "execution_count": 13,
   "metadata": {},
   "outputs": [
    {
     "name": "stderr",
     "output_type": "stream",
     "text": [
      "/usr/local/lib/python3.11/dist-packages/numpy/core/fromnumeric.py:59: FutureWarning: 'DataFrame.swapaxes' is deprecated and will be removed in a future version. Please use 'DataFrame.transpose' instead.\n",
      "  return bound(*args, **kwds)\n"
     ]
    },
    {
     "name": "stdout",
     "output_type": "stream",
     "text": [
      "CPU times: user 3.01 s, sys: 712 ms, total: 3.73 s\n",
      "Wall time: 47.9 s\n"
     ]
    }
   ],
   "source": [
    "%%time\n",
    "\n",
    "data = parallelize_dataframe(data, preprocess, field_read=\"text_original\", field_write=\"tokens\", stopwords=stopwords, do_compound_word_split=True)"
   ]
  },
  {
   "cell_type": "code",
   "execution_count": 14,
   "metadata": {},
   "outputs": [
    {
     "data": {
      "text/html": [
       "<div>\n",
       "<style scoped>\n",
       "    .dataframe tbody tr th:only-of-type {\n",
       "        vertical-align: middle;\n",
       "    }\n",
       "\n",
       "    .dataframe tbody tr th {\n",
       "        vertical-align: top;\n",
       "    }\n",
       "\n",
       "    .dataframe thead th {\n",
       "        text-align: right;\n",
       "    }\n",
       "</style>\n",
       "<table border=\"1\" class=\"dataframe\">\n",
       "  <thead>\n",
       "    <tr style=\"text-align: right;\">\n",
       "      <th></th>\n",
       "      <th>text_original</th>\n",
       "      <th>rating</th>\n",
       "      <th>tokens</th>\n",
       "    </tr>\n",
       "  </thead>\n",
       "  <tbody>\n",
       "    <tr>\n",
       "      <th>0</th>\n",
       "      <td>Ich bin franzose und bin seit ein paar Wochen ...</td>\n",
       "      <td>2.0</td>\n",
       "      <td>[franzos, seit, paar, woch, muench, zahn, schm...</td>\n",
       "    </tr>\n",
       "    <tr>\n",
       "      <th>1</th>\n",
       "      <td>Dieser Arzt ist das unmöglichste was mir in me...</td>\n",
       "      <td>6.0</td>\n",
       "      <td>[arzt, unmog, leb, je, begegnet, unfreund, her...</td>\n",
       "    </tr>\n",
       "    <tr>\n",
       "      <th>2</th>\n",
       "      <td>Hatte akute Beschwerden am Rücken. Herr Magura...</td>\n",
       "      <td>1.0</td>\n",
       "      <td>[akut, beschw, erd, ruck, magura, erst, arzt, ...</td>\n",
       "    </tr>\n",
       "  </tbody>\n",
       "</table>\n",
       "</div>"
      ],
      "text/plain": [
       "                                       text_original  rating  \\\n",
       "0  Ich bin franzose und bin seit ein paar Wochen ...     2.0   \n",
       "1  Dieser Arzt ist das unmöglichste was mir in me...     6.0   \n",
       "2  Hatte akute Beschwerden am Rücken. Herr Magura...     1.0   \n",
       "\n",
       "                                              tokens  \n",
       "0  [franzos, seit, paar, woch, muench, zahn, schm...  \n",
       "1  [arzt, unmog, leb, je, begegnet, unfreund, her...  \n",
       "2  [akut, beschw, erd, ruck, magura, erst, arzt, ...  "
      ]
     },
     "execution_count": 14,
     "metadata": {},
     "output_type": "execute_result"
    }
   ],
   "source": [
    "data.head(3)"
   ]
  },
  {
   "cell_type": "code",
   "execution_count": 15,
   "metadata": {},
   "outputs": [
    {
     "name": "stderr",
     "output_type": "stream",
     "text": [
      "/usr/local/lib/python3.11/dist-packages/sklearn/feature_extraction/text.py:525: UserWarning: The parameter 'token_pattern' will not be used since 'tokenizer' is not None'\n",
      "  warnings.warn(\n"
     ]
    },
    {
     "name": "stdout",
     "output_type": "stream",
     "text": [
      "CPU times: user 3.61 s, sys: 88.9 ms, total: 3.7 s\n",
      "Wall time: 3.69 s\n"
     ]
    }
   ],
   "source": [
    "%%time\n",
    "\n",
    "from fhnw.nlp.utils.processing import identity\n",
    "\n",
    "tfidf = TfidfVectorizer(max_df=0.85, min_df=3, tokenizer=identity, preprocessor=identity, stop_words=None)\n",
    "word_vector = tfidf.fit_transform(data[\"tokens\"])"
   ]
  },
  {
   "cell_type": "code",
   "execution_count": 16,
   "metadata": {},
   "outputs": [
    {
     "data": {
      "text/plain": [
       "4705    behandlungsschritt\n",
       "dtype: object"
      ]
     },
     "execution_count": 16,
     "metadata": {},
     "output_type": "execute_result"
    }
   ],
   "source": [
    "# Some words might not be in the list anymore (e.g. compound words might be split into subwords)\n",
    "mask = pd.Series(tfidf.get_feature_names_out()).str.startswith(\"behandlungsschritt\")\n",
    "pd.Series(tfidf.get_feature_names_out())[mask]"
   ]
  },
  {
   "cell_type": "code",
   "execution_count": null,
   "metadata": {},
   "outputs": [],
   "source": []
  },
  {
   "cell_type": "markdown",
   "metadata": {},
   "source": [
    "Let's look at some of the values:"
   ]
  },
  {
   "cell_type": "code",
   "execution_count": 17,
   "metadata": {},
   "outputs": [],
   "source": [
    "def get_tfidfs(tfidf, text, top_n=10):\n",
    "    \"\"\"Extracts the tf-idf values for the words/tokens in the text\n",
    "\n",
    "    Parameters\n",
    "    ----------\n",
    "    tfidf : TfidfVectorizer\n",
    "        The vectorizer\n",
    "    text : str\n",
    "        The text to extract the tf-idf values \n",
    "    top_n : int\n",
    "        The top n tf-idf values to extract\n",
    "        \n",
    "    Returns\n",
    "    -------\n",
    "    dict\n",
    "        The words/tokens with their tf-idf values\n",
    "    \"\"\"\n",
    "    tokens = preprocess(text, stopwords=stopwords)\n",
    "    \n",
    "    tfidf_matrix= tfidf.transform([tokens]).todense()\n",
    "    token_index = tfidf_matrix[0,:].nonzero()[1]\n",
    "    corpus = tfidf.get_feature_names_out()\n",
    "    \n",
    "    tfidf_scores = zip([corpus[i] for i in token_index], [round(tfidf_matrix[0, x], 5) for x in token_index])\n",
    "    tfidf_scores = sorted(tfidf_scores, key=lambda x: (x[1], x[0]), reverse=True)\n",
    "    return dict(tfidf_scores[:top_n])"
   ]
  },
  {
   "cell_type": "code",
   "execution_count": 18,
   "metadata": {},
   "outputs": [
    {
     "data": {
      "text/plain": [
       "{'schlecht': 0.91796, 'arzt': 0.39668}"
      ]
     },
     "execution_count": 18,
     "metadata": {},
     "output_type": "execute_result"
    }
   ],
   "source": [
    "get_tfidfs(tfidf, \"ein schlechter arzt\")"
   ]
  },
  {
   "cell_type": "code",
   "execution_count": 19,
   "metadata": {},
   "outputs": [
    {
     "name": "stdout",
     "output_type": "stream",
     "text": [
      "\n",
      "=====Text=====\n",
      "Ich bin franzose und bin seit ein paar Wochen in muenchen. Ich hatte Zahn Schmerzen und mein Kollegue hat mir Dr mainka empfohlen. Ich habe schnell ein Termin bekommen, das Team war nett und meine schmerzen sind weg!! Ich bin als Angst Patient sehr zurieden!!\n",
      "\n",
      "===Keywords===\n",
      "zuried 0.45437\n",
      "muench 0.41409\n",
      "franzos 0.37458\n",
      "mainka 0.36602\n",
      "schmerz 0.33993\n",
      "paar 0.20353\n",
      "empfohl 0.18632\n",
      "woch 0.15894\n",
      "bekomm 0.15016\n",
      "angst 0.14466\n"
     ]
    }
   ],
   "source": [
    "index = 0\n",
    "top_tfidfs = get_tfidfs(tfidf, data[\"text_original\"].iloc[index])\n",
    "\n",
    "print(\"\\n=====Text=====\")\n",
    "print(data[\"text_original\"].iloc[index])\n",
    "print(\"\\n===Keywords===\")\n",
    "for word in top_tfidfs:\n",
    "    print(word, top_tfidfs[word])"
   ]
  },
  {
   "cell_type": "markdown",
   "metadata": {},
   "source": [
    "Just for illustration (also on how large such a matrix can be - i.e. it becomes clear why people use [sparse matrix](https://en.wikipedia.org/wiki/Sparse_matrix) representations and colab runs out of RAM)."
   ]
  },
  {
   "cell_type": "code",
   "execution_count": 20,
   "metadata": {},
   "outputs": [],
   "source": [
    "def create_document_term_matrix(tfidf, documents):\n",
    "    \"\"\"Creates the document-term matrix (rows correspond to documents in the corpus and columns correspond to words/terms)\n",
    "    see https://en.wikipedia.org/wiki/Document-term_matrix\n",
    "\n",
    "    Parameters\n",
    "    ----------\n",
    "    tfidf : TfidfVectorizer\n",
    "        The vectorizer\n",
    "    documents: list/pd.series\n",
    "        The documents (i.e. the texts)\n",
    "        \n",
    "    Returns\n",
    "    -------\n",
    "    pd.DataFrame\n",
    "        The document-term matrix\n",
    "    \"\"\"\n",
    "        \n",
    "    import pandas as pd\n",
    "\n",
    "    tfidf_matrix = tfidf.transform(documents)\n",
    "    return pd.DataFrame(tfidf_matrix.toarray(), columns = tfidf.get_feature_names_out())"
   ]
  },
  {
   "cell_type": "code",
   "execution_count": 21,
   "metadata": {},
   "outputs": [
    {
     "name": "stdout",
     "output_type": "stream",
     "text": [
      "CPU times: user 1.46 s, sys: 2.96 s, total: 4.42 s\n",
      "Wall time: 4.43 s\n"
     ]
    },
    {
     "data": {
      "text/html": [
       "<div>\n",
       "<style scoped>\n",
       "    .dataframe tbody tr th:only-of-type {\n",
       "        vertical-align: middle;\n",
       "    }\n",
       "\n",
       "    .dataframe tbody tr th {\n",
       "        vertical-align: top;\n",
       "    }\n",
       "\n",
       "    .dataframe thead th {\n",
       "        text-align: right;\n",
       "    }\n",
       "</style>\n",
       "<table border=\"1\" class=\"dataframe\">\n",
       "  <thead>\n",
       "    <tr style=\"text-align: right;\">\n",
       "      <th></th>\n",
       "      <th>aa</th>\n",
       "      <th>aaa</th>\n",
       "      <th>aaaaab</th>\n",
       "      <th>aaab</th>\n",
       "      <th>aaah</th>\n",
       "      <th>aach</th>\n",
       "      <th>aal</th>\n",
       "      <th>aalglatt</th>\n",
       "      <th>ab</th>\n",
       "      <th>abadi</th>\n",
       "      <th>...</th>\n",
       "      <th>×</th>\n",
       "      <th>àrzte</th>\n",
       "      <th>àrztin</th>\n",
       "      <th>ârzte</th>\n",
       "      <th>ârztin</th>\n",
       "      <th>ãrztin</th>\n",
       "      <th>årztin</th>\n",
       "      <th>ích</th>\n",
       "      <th>ín</th>\n",
       "      <th>únd</th>\n",
       "    </tr>\n",
       "  </thead>\n",
       "  <tbody>\n",
       "    <tr>\n",
       "      <th>0</th>\n",
       "      <td>0.0</td>\n",
       "      <td>0.0</td>\n",
       "      <td>0.0</td>\n",
       "      <td>0.0</td>\n",
       "      <td>0.0</td>\n",
       "      <td>0.0</td>\n",
       "      <td>0.0</td>\n",
       "      <td>0.0</td>\n",
       "      <td>0.0</td>\n",
       "      <td>0.0</td>\n",
       "      <td>...</td>\n",
       "      <td>0.0</td>\n",
       "      <td>0.0</td>\n",
       "      <td>0.0</td>\n",
       "      <td>0.0</td>\n",
       "      <td>0.0</td>\n",
       "      <td>0.0</td>\n",
       "      <td>0.0</td>\n",
       "      <td>0.0</td>\n",
       "      <td>0.0</td>\n",
       "      <td>0.0</td>\n",
       "    </tr>\n",
       "    <tr>\n",
       "      <th>1</th>\n",
       "      <td>0.0</td>\n",
       "      <td>0.0</td>\n",
       "      <td>0.0</td>\n",
       "      <td>0.0</td>\n",
       "      <td>0.0</td>\n",
       "      <td>0.0</td>\n",
       "      <td>0.0</td>\n",
       "      <td>0.0</td>\n",
       "      <td>0.0</td>\n",
       "      <td>0.0</td>\n",
       "      <td>...</td>\n",
       "      <td>0.0</td>\n",
       "      <td>0.0</td>\n",
       "      <td>0.0</td>\n",
       "      <td>0.0</td>\n",
       "      <td>0.0</td>\n",
       "      <td>0.0</td>\n",
       "      <td>0.0</td>\n",
       "      <td>0.0</td>\n",
       "      <td>0.0</td>\n",
       "      <td>0.0</td>\n",
       "    </tr>\n",
       "    <tr>\n",
       "      <th>2</th>\n",
       "      <td>0.0</td>\n",
       "      <td>0.0</td>\n",
       "      <td>0.0</td>\n",
       "      <td>0.0</td>\n",
       "      <td>0.0</td>\n",
       "      <td>0.0</td>\n",
       "      <td>0.0</td>\n",
       "      <td>0.0</td>\n",
       "      <td>0.0</td>\n",
       "      <td>0.0</td>\n",
       "      <td>...</td>\n",
       "      <td>0.0</td>\n",
       "      <td>0.0</td>\n",
       "      <td>0.0</td>\n",
       "      <td>0.0</td>\n",
       "      <td>0.0</td>\n",
       "      <td>0.0</td>\n",
       "      <td>0.0</td>\n",
       "      <td>0.0</td>\n",
       "      <td>0.0</td>\n",
       "      <td>0.0</td>\n",
       "    </tr>\n",
       "    <tr>\n",
       "      <th>3</th>\n",
       "      <td>0.0</td>\n",
       "      <td>0.0</td>\n",
       "      <td>0.0</td>\n",
       "      <td>0.0</td>\n",
       "      <td>0.0</td>\n",
       "      <td>0.0</td>\n",
       "      <td>0.0</td>\n",
       "      <td>0.0</td>\n",
       "      <td>0.0</td>\n",
       "      <td>0.0</td>\n",
       "      <td>...</td>\n",
       "      <td>0.0</td>\n",
       "      <td>0.0</td>\n",
       "      <td>0.0</td>\n",
       "      <td>0.0</td>\n",
       "      <td>0.0</td>\n",
       "      <td>0.0</td>\n",
       "      <td>0.0</td>\n",
       "      <td>0.0</td>\n",
       "      <td>0.0</td>\n",
       "      <td>0.0</td>\n",
       "    </tr>\n",
       "    <tr>\n",
       "      <th>4</th>\n",
       "      <td>0.0</td>\n",
       "      <td>0.0</td>\n",
       "      <td>0.0</td>\n",
       "      <td>0.0</td>\n",
       "      <td>0.0</td>\n",
       "      <td>0.0</td>\n",
       "      <td>0.0</td>\n",
       "      <td>0.0</td>\n",
       "      <td>0.0</td>\n",
       "      <td>0.0</td>\n",
       "      <td>...</td>\n",
       "      <td>0.0</td>\n",
       "      <td>0.0</td>\n",
       "      <td>0.0</td>\n",
       "      <td>0.0</td>\n",
       "      <td>0.0</td>\n",
       "      <td>0.0</td>\n",
       "      <td>0.0</td>\n",
       "      <td>0.0</td>\n",
       "      <td>0.0</td>\n",
       "      <td>0.0</td>\n",
       "    </tr>\n",
       "    <tr>\n",
       "      <th>...</th>\n",
       "      <td>...</td>\n",
       "      <td>...</td>\n",
       "      <td>...</td>\n",
       "      <td>...</td>\n",
       "      <td>...</td>\n",
       "      <td>...</td>\n",
       "      <td>...</td>\n",
       "      <td>...</td>\n",
       "      <td>...</td>\n",
       "      <td>...</td>\n",
       "      <td>...</td>\n",
       "      <td>...</td>\n",
       "      <td>...</td>\n",
       "      <td>...</td>\n",
       "      <td>...</td>\n",
       "      <td>...</td>\n",
       "      <td>...</td>\n",
       "      <td>...</td>\n",
       "      <td>...</td>\n",
       "      <td>...</td>\n",
       "      <td>...</td>\n",
       "    </tr>\n",
       "    <tr>\n",
       "      <th>89469</th>\n",
       "      <td>0.0</td>\n",
       "      <td>0.0</td>\n",
       "      <td>0.0</td>\n",
       "      <td>0.0</td>\n",
       "      <td>0.0</td>\n",
       "      <td>0.0</td>\n",
       "      <td>0.0</td>\n",
       "      <td>0.0</td>\n",
       "      <td>0.0</td>\n",
       "      <td>0.0</td>\n",
       "      <td>...</td>\n",
       "      <td>0.0</td>\n",
       "      <td>0.0</td>\n",
       "      <td>0.0</td>\n",
       "      <td>0.0</td>\n",
       "      <td>0.0</td>\n",
       "      <td>0.0</td>\n",
       "      <td>0.0</td>\n",
       "      <td>0.0</td>\n",
       "      <td>0.0</td>\n",
       "      <td>0.0</td>\n",
       "    </tr>\n",
       "    <tr>\n",
       "      <th>89470</th>\n",
       "      <td>0.0</td>\n",
       "      <td>0.0</td>\n",
       "      <td>0.0</td>\n",
       "      <td>0.0</td>\n",
       "      <td>0.0</td>\n",
       "      <td>0.0</td>\n",
       "      <td>0.0</td>\n",
       "      <td>0.0</td>\n",
       "      <td>0.0</td>\n",
       "      <td>0.0</td>\n",
       "      <td>...</td>\n",
       "      <td>0.0</td>\n",
       "      <td>0.0</td>\n",
       "      <td>0.0</td>\n",
       "      <td>0.0</td>\n",
       "      <td>0.0</td>\n",
       "      <td>0.0</td>\n",
       "      <td>0.0</td>\n",
       "      <td>0.0</td>\n",
       "      <td>0.0</td>\n",
       "      <td>0.0</td>\n",
       "    </tr>\n",
       "    <tr>\n",
       "      <th>89471</th>\n",
       "      <td>0.0</td>\n",
       "      <td>0.0</td>\n",
       "      <td>0.0</td>\n",
       "      <td>0.0</td>\n",
       "      <td>0.0</td>\n",
       "      <td>0.0</td>\n",
       "      <td>0.0</td>\n",
       "      <td>0.0</td>\n",
       "      <td>0.0</td>\n",
       "      <td>0.0</td>\n",
       "      <td>...</td>\n",
       "      <td>0.0</td>\n",
       "      <td>0.0</td>\n",
       "      <td>0.0</td>\n",
       "      <td>0.0</td>\n",
       "      <td>0.0</td>\n",
       "      <td>0.0</td>\n",
       "      <td>0.0</td>\n",
       "      <td>0.0</td>\n",
       "      <td>0.0</td>\n",
       "      <td>0.0</td>\n",
       "    </tr>\n",
       "    <tr>\n",
       "      <th>89472</th>\n",
       "      <td>0.0</td>\n",
       "      <td>0.0</td>\n",
       "      <td>0.0</td>\n",
       "      <td>0.0</td>\n",
       "      <td>0.0</td>\n",
       "      <td>0.0</td>\n",
       "      <td>0.0</td>\n",
       "      <td>0.0</td>\n",
       "      <td>0.0</td>\n",
       "      <td>0.0</td>\n",
       "      <td>...</td>\n",
       "      <td>0.0</td>\n",
       "      <td>0.0</td>\n",
       "      <td>0.0</td>\n",
       "      <td>0.0</td>\n",
       "      <td>0.0</td>\n",
       "      <td>0.0</td>\n",
       "      <td>0.0</td>\n",
       "      <td>0.0</td>\n",
       "      <td>0.0</td>\n",
       "      <td>0.0</td>\n",
       "    </tr>\n",
       "    <tr>\n",
       "      <th>89473</th>\n",
       "      <td>0.0</td>\n",
       "      <td>0.0</td>\n",
       "      <td>0.0</td>\n",
       "      <td>0.0</td>\n",
       "      <td>0.0</td>\n",
       "      <td>0.0</td>\n",
       "      <td>0.0</td>\n",
       "      <td>0.0</td>\n",
       "      <td>0.0</td>\n",
       "      <td>0.0</td>\n",
       "      <td>...</td>\n",
       "      <td>0.0</td>\n",
       "      <td>0.0</td>\n",
       "      <td>0.0</td>\n",
       "      <td>0.0</td>\n",
       "      <td>0.0</td>\n",
       "      <td>0.0</td>\n",
       "      <td>0.0</td>\n",
       "      <td>0.0</td>\n",
       "      <td>0.0</td>\n",
       "      <td>0.0</td>\n",
       "    </tr>\n",
       "  </tbody>\n",
       "</table>\n",
       "<p>89474 rows × 39737 columns</p>\n",
       "</div>"
      ],
      "text/plain": [
       "        aa  aaa  aaaaab  aaab  aaah  aach  aal  aalglatt   ab  abadi  ...  \\\n",
       "0      0.0  0.0     0.0   0.0   0.0   0.0  0.0       0.0  0.0    0.0  ...   \n",
       "1      0.0  0.0     0.0   0.0   0.0   0.0  0.0       0.0  0.0    0.0  ...   \n",
       "2      0.0  0.0     0.0   0.0   0.0   0.0  0.0       0.0  0.0    0.0  ...   \n",
       "3      0.0  0.0     0.0   0.0   0.0   0.0  0.0       0.0  0.0    0.0  ...   \n",
       "4      0.0  0.0     0.0   0.0   0.0   0.0  0.0       0.0  0.0    0.0  ...   \n",
       "...    ...  ...     ...   ...   ...   ...  ...       ...  ...    ...  ...   \n",
       "89469  0.0  0.0     0.0   0.0   0.0   0.0  0.0       0.0  0.0    0.0  ...   \n",
       "89470  0.0  0.0     0.0   0.0   0.0   0.0  0.0       0.0  0.0    0.0  ...   \n",
       "89471  0.0  0.0     0.0   0.0   0.0   0.0  0.0       0.0  0.0    0.0  ...   \n",
       "89472  0.0  0.0     0.0   0.0   0.0   0.0  0.0       0.0  0.0    0.0  ...   \n",
       "89473  0.0  0.0     0.0   0.0   0.0   0.0  0.0       0.0  0.0    0.0  ...   \n",
       "\n",
       "         ×  àrzte  àrztin  ârzte  ârztin  ãrztin  årztin  ích   ín  únd  \n",
       "0      0.0    0.0     0.0    0.0     0.0     0.0     0.0  0.0  0.0  0.0  \n",
       "1      0.0    0.0     0.0    0.0     0.0     0.0     0.0  0.0  0.0  0.0  \n",
       "2      0.0    0.0     0.0    0.0     0.0     0.0     0.0  0.0  0.0  0.0  \n",
       "3      0.0    0.0     0.0    0.0     0.0     0.0     0.0  0.0  0.0  0.0  \n",
       "4      0.0    0.0     0.0    0.0     0.0     0.0     0.0  0.0  0.0  0.0  \n",
       "...    ...    ...     ...    ...     ...     ...     ...  ...  ...  ...  \n",
       "89469  0.0    0.0     0.0    0.0     0.0     0.0     0.0  0.0  0.0  0.0  \n",
       "89470  0.0    0.0     0.0    0.0     0.0     0.0     0.0  0.0  0.0  0.0  \n",
       "89471  0.0    0.0     0.0    0.0     0.0     0.0     0.0  0.0  0.0  0.0  \n",
       "89472  0.0    0.0     0.0    0.0     0.0     0.0     0.0  0.0  0.0  0.0  \n",
       "89473  0.0    0.0     0.0    0.0     0.0     0.0     0.0  0.0  0.0  0.0  \n",
       "\n",
       "[89474 rows x 39737 columns]"
      ]
     },
     "execution_count": 21,
     "metadata": {},
     "output_type": "execute_result"
    }
   ],
   "source": [
    "%%time\n",
    "\n",
    "# downsample since it easily triggers a MemoryError\n",
    "nr_docs = int(0.25 * data.shape[0])\n",
    "create_document_term_matrix(tfidf, data[\"tokens\"].head(nr_docs))"
   ]
  },
  {
   "cell_type": "code",
   "execution_count": null,
   "metadata": {},
   "outputs": [],
   "source": []
  },
  {
   "cell_type": "markdown",
   "metadata": {},
   "source": [
    "<font color='red'>**TASK: Implement the function `find_similar` which returns the top_n most similar documents based on the query using `cosine_similarity`.**</font>\n",
    "\n",
    "You might get inspiration from:\n",
    "- above\n",
    "- https://scikit-learn.org/stable/modules/metrics.html#cosine-similarity\n",
    "- https://www.markhneedham.com/blog/2016/07/27/scitkit-learn-tfidf-and-cosine-similarity-for-computer-science-papers"
   ]
  },
  {
   "cell_type": "code",
   "execution_count": 22,
   "metadata": {},
   "outputs": [],
   "source": [
    "def find_similar(tfidf, query, documents, top_n=10):\n",
    "    \"\"\"Calculates the similarity between a query (text) and a list/pd.Series of documents\n",
    "\n",
    "    Parameters\n",
    "    ----------\n",
    "    tfidf : TfidfVectorizer\n",
    "        The vectorizer\n",
    "    query: str\n",
    "        The (unprocessed) query (e.g. a sentence) \n",
    "    documents: list/pd.Series\n",
    "        The documents (assumed to be pre-processed and tokenized)\n",
    "        \n",
    "    Returns\n",
    "    -------\n",
    "    list\n",
    "        A list of index/similarity score tuples\n",
    "    \"\"\"\n",
    "\n",
    "    # TODO: !!! add your code !!!\n",
    "    #############################  \n",
    "    # !!! this needs rework !!!\n",
    "    #import random\n",
    "    #return [(random.randint(0, len(documents)), random.random()) for i in range(top_n)]\n",
    "    \n",
    "    \n",
    "    from sklearn.metrics.pairwise import linear_kernel\n",
    "    \n",
    "    query_tokens = preprocess(query, stopwords=stopwords)\n",
    "    \n",
    "    tfidf_query = tfidf.transform([query_tokens])\n",
    "    \n",
    "    # in case documents are fixed (a corpus) we would only need to calculate this once and store it (save some compute)\n",
    "    tfidf_documents = tfidf.transform(documents)\n",
    "    \n",
    "    similarities = linear_kernel(tfidf_query, tfidf_documents).flatten()\n",
    "    \n",
    "    related_docs_indices = [i for i in similarities.argsort()[::-1]]\n",
    "    return [(index, similarities[index]) for index in related_docs_indices][0:top_n]\n",
    "    ###################\n",
    "    # TODO: !!! end !!!"
   ]
  },
  {
   "cell_type": "code",
   "execution_count": 23,
   "metadata": {},
   "outputs": [
    {
     "name": "stdout",
     "output_type": "stream",
     "text": [
      "CPU times: user 3.64 s, sys: 245 ms, total: 3.88 s\n",
      "Wall time: 3.88 s\n"
     ]
    }
   ],
   "source": [
    "%%time\n",
    "\n",
    "similar = find_similar(tfidf, \"Ein schlechter Arzt\", data[\"tokens\"])"
   ]
  },
  {
   "cell_type": "code",
   "execution_count": 24,
   "metadata": {},
   "outputs": [
    {
     "name": "stdout",
     "output_type": "stream",
     "text": [
      "1.00000 \t Das war der schlechteste Arzt bei dem ich war !\n",
      "0.91796 \t Sehr schlecht.!!!!!\n",
      "0.91796 \t Sehr schlecht..\n",
      "0.91796 \t Schlecht/ sehr schlecht\n",
      "0.91309 \t Dieser Arzt ist nicht schlechter als mancher andere.\n",
      "0.82546 \t Schlecht enttäuschent nicht hin\n",
      "0.81679 \t Schlechte Behandlung und schlechte Diagnose\n",
      "0.81573 \t Schlechte Behandlung!\n",
      "0.77390 \t Einfach  schlecht  einfach  schlecht  rinfach  schlecht    einfach  schlecht\n",
      "0.77144 \t schlechteste Praxis aller Zeiten\n"
     ]
    }
   ],
   "source": [
    "for index, score in similar:\n",
    "    print(f'{score:.5f}', \"\\t\", data[\"text_original\"].iloc[index])"
   ]
  },
  {
   "cell_type": "markdown",
   "metadata": {},
   "source": [
    "<font color='red'>**Question: Could you also use the *dot product* instead of the *cosine similarity* in the find_similar function?**</font>"
   ]
  },
  {
   "cell_type": "markdown",
   "metadata": {},
   "source": [
    "<font color='green'>This depends on how [TfidfVectorizer](https://scikit-learn.org/stable/modules/generated/sklearn.feature_extraction.text.TfidfVectorizer.html) was initialized. TfidfVectorizer has the parameter `norm` which is set to `l2` by default. The l2 norm normalizes the tf-idf vectors to unit length and thus (given the defaults were used) the dot product should produce the same result (but with less computational needs).</font>"
   ]
  },
  {
   "cell_type": "code",
   "execution_count": null,
   "metadata": {},
   "outputs": [],
   "source": []
  },
  {
   "cell_type": "markdown",
   "metadata": {},
   "source": [
    "<font color='red'>**Question: What are the pros and cons of using TF-IDF for a search engine?**</font>"
   ]
  },
  {
   "cell_type": "markdown",
   "metadata": {},
   "source": [
    "<font color='green'>\n",
    "Pros:\n",
    "    \n",
    "- Simple approach\n",
    "- Continuous degree of similarity between queries and documents\n",
    "- Allows for ranking documents according relevance\n",
    "- Allows for partial matching\n",
    "</font>"
   ]
  },
  {
   "cell_type": "markdown",
   "metadata": {},
   "source": [
    "<font color='green'>\n",
    "Cons:\n",
    "    \n",
    "- Documents with similar context but different vocabulary will not be\n",
    "associated (e.g. synonyms – house price, price of flat, price of apartment)\n",
    "- Orders of words in documents is ignored (John gives Mary 100 USD vs. Mary\n",
    "gives John 100 USD)\n",
    "- Query keywords must precisely match document words (apple vs. apples)\n",
    "</font>"
   ]
  },
  {
   "cell_type": "code",
   "execution_count": null,
   "metadata": {},
   "outputs": [],
   "source": []
  },
  {
   "cell_type": "markdown",
   "metadata": {},
   "source": [
    "<font color='red'>**TASK: You might want to play with the parameters of [TfidfVectorizer](https://scikit-learn.org/stable/modules/generated/sklearn.feature_extraction.text.TfidfVectorizer.html#sklearn.feature_extraction.text.TfidfVectorizer) in order to improve search results (after you implemented the search engine). Alternatively, you might also think of alternative ways to vectorize text (e.g. using Tensorflow's Universal Sentence Encoder with the advantage that the search engine also supports [semantic textual similarity](https://ai.googleblog.com/2018/05/advances-in-semantic-textual-similarity.html) - see also [here](https://www.tensorflow.org/hub/tutorials/semantic_similarity_with_tf_hub_universal_encoder), [here](https://tfhub.dev/google/universal-sentence-encoder-multilingual) and [here](https://medium.com/analytics-vidhya/build-your-semantic-document-search-engine-with-tf-idf-and-google-use-c836bf5f27fb)).**</font>"
   ]
  },
  {
   "cell_type": "code",
   "execution_count": null,
   "metadata": {},
   "outputs": [],
   "source": []
  },
  {
   "cell_type": "markdown",
   "metadata": {},
   "source": [
    "Let's check if the [cosine similarity](https://scikit-learn.org/stable/modules/metrics.html#cosine-similarity) and the [dot product](https://scikit-learn.org/stable/modules/metrics.html#linear-kernel) provide the same result."
   ]
  },
  {
   "cell_type": "code",
   "execution_count": 25,
   "metadata": {},
   "outputs": [
    {
     "data": {
      "image/png": "[encoded data removed]",
      "text/plain": [
       "<Figure size 900x900 with 1 Axes>"
      ]
     },
     "metadata": {},
     "output_type": "display_data"
    },
    {
     "data": {
      "image/png": "[encoded data removed]",
      "text/plain": [
       "<Figure size 900x900 with 1 Axes>"
      ]
     },
     "metadata": {},
     "output_type": "display_data"
    }
   ],
   "source": [
    "import matplotlib.pyplot as plt\n",
    "from sklearn.metrics.pairwise import cosine_similarity\n",
    "from sklearn.metrics.pairwise import linear_kernel\n",
    "\n",
    "tfidf_vectors = tfidf.transform(data.head(200)[\"tokens\"])\n",
    "\n",
    "plt.figure(figsize=(9, 9))\n",
    "_ = plt.imshow(cosine_similarity(tfidf_vectors, tfidf_vectors), cmap='gray')\n",
    "\n",
    "plt.figure(figsize=(9, 9))\n",
    "_ = plt.imshow(linear_kernel(tfidf_vectors, tfidf_vectors), cmap='gray')"
   ]
  },
  {
   "cell_type": "code",
   "execution_count": null,
   "metadata": {},
   "outputs": [],
   "source": []
  }
 ],
 "metadata": {
  "kernelspec": {
   "display_name": "Python 3 (ipykernel)",
   "language": "python",
   "name": "python3"
  },
  "language_info": {
   "codemirror_mode": {
    "name": "ipython",
    "version": 3
   },
   "file_extension": ".py",
   "mimetype": "text/x-python",
   "name": "python",
   "nbconvert_exporter": "python",
   "pygments_lexer": "ipython3",
   "version": "3.11.11"
  }
 },
 "nbformat": 4,
 "nbformat_minor": 4
}
